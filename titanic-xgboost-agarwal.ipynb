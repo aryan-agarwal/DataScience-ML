{
 "cells": [
  {
   "cell_type": "code",
   "execution_count": 1,
   "id": "2d4c5f45",
   "metadata": {
    "_cell_guid": "b1076dfc-b9ad-4769-8c92-a6c4dae69d19",
    "_uuid": "8f2839f25d086af736a60e9eeb907d3b93b6e0e5",
    "execution": {
     "iopub.execute_input": "2022-08-25T16:57:52.138828Z",
     "iopub.status.busy": "2022-08-25T16:57:52.138179Z",
     "iopub.status.idle": "2022-08-25T16:57:52.157484Z",
     "shell.execute_reply": "2022-08-25T16:57:52.155511Z"
    },
    "papermill": {
     "duration": 0.02979,
     "end_time": "2022-08-25T16:57:52.160006",
     "exception": false,
     "start_time": "2022-08-25T16:57:52.130216",
     "status": "completed"
    },
    "tags": []
   },
   "outputs": [
    {
     "name": "stdout",
     "output_type": "stream",
     "text": [
      "/kaggle/input/titanic/train.csv\n",
      "/kaggle/input/titanic/test.csv\n",
      "/kaggle/input/titanic/gender_submission.csv\n"
     ]
    }
   ],
   "source": [
    "# This Python 3 environment comes with many helpful analytics libraries installed\n",
    "# It is defined by the kaggle/python Docker image: https://github.com/kaggle/docker-python\n",
    "# For example, here's several helpful packages to load\n",
    "\n",
    "import numpy as np # linear algebra\n",
    "import pandas as pd # data processing, CSV file I/O (e.g. pd.read_csv)\n",
    "\n",
    "# Input data files are available in the read-only \"../input/\" directory\n",
    "# For example, running this (by clicking run or pressing Shift+Enter) will list all files under the input directory\n",
    "\n",
    "import os\n",
    "for dirname, _, filenames in os.walk('/kaggle/input'):\n",
    "    for filename in filenames:\n",
    "        print(os.path.join(dirname, filename))\n",
    "\n",
    "# You can write up to 20GB to the current directory (/kaggle/working/) that gets preserved as output when you create a version using \"Save & Run All\" \n",
    "# You can also write temporary files to /kaggle/temp/, but they won't be saved outside of the current session"
   ]
  },
  {
   "cell_type": "code",
   "execution_count": 2,
   "id": "a2fe4198",
   "metadata": {
    "execution": {
     "iopub.execute_input": "2022-08-25T16:57:52.172754Z",
     "iopub.status.busy": "2022-08-25T16:57:52.172003Z",
     "iopub.status.idle": "2022-08-25T16:57:53.817138Z",
     "shell.execute_reply": "2022-08-25T16:57:53.816239Z"
    },
    "papermill": {
     "duration": 1.654338,
     "end_time": "2022-08-25T16:57:53.819691",
     "exception": false,
     "start_time": "2022-08-25T16:57:52.165353",
     "status": "completed"
    },
    "tags": []
   },
   "outputs": [],
   "source": [
    "#importing libraries\n",
    "import pandas as pd\n",
    "import numpy as np\n",
    "import seaborn as sns\n",
    "from sklearn import linear_model\n",
    "from sklearn.tree import DecisionTreeClassifier\n",
    "from sklearn.model_selection import train_test_split"
   ]
  },
  {
   "cell_type": "code",
   "execution_count": 3,
   "id": "4ec7850e",
   "metadata": {
    "execution": {
     "iopub.execute_input": "2022-08-25T16:57:53.831883Z",
     "iopub.status.busy": "2022-08-25T16:57:53.830779Z",
     "iopub.status.idle": "2022-08-25T16:57:53.869354Z",
     "shell.execute_reply": "2022-08-25T16:57:53.868055Z"
    },
    "papermill": {
     "duration": 0.047805,
     "end_time": "2022-08-25T16:57:53.872379",
     "exception": false,
     "start_time": "2022-08-25T16:57:53.824574",
     "status": "completed"
    },
    "tags": []
   },
   "outputs": [],
   "source": [
    "#importing data\n",
    "titanic_train = pd.read_csv('/kaggle/input/titanic/train.csv')\n",
    "titanic_test = pd.read_csv('/kaggle/input/titanic/test.csv')"
   ]
  },
  {
   "cell_type": "code",
   "execution_count": 4,
   "id": "fc670eb3",
   "metadata": {
    "execution": {
     "iopub.execute_input": "2022-08-25T16:57:53.884692Z",
     "iopub.status.busy": "2022-08-25T16:57:53.883999Z",
     "iopub.status.idle": "2022-08-25T16:57:53.903556Z",
     "shell.execute_reply": "2022-08-25T16:57:53.902386Z"
    },
    "papermill": {
     "duration": 0.028409,
     "end_time": "2022-08-25T16:57:53.906152",
     "exception": false,
     "start_time": "2022-08-25T16:57:53.877743",
     "status": "completed"
    },
    "tags": []
   },
   "outputs": [
    {
     "data": {
      "text/plain": [
       "(   PassengerId  Survived  Pclass  \\\n",
       " 0            1         0       3   \n",
       " 1            2         1       1   \n",
       " 2            3         1       3   \n",
       " 3            4         1       1   \n",
       " 4            5         0       3   \n",
       " \n",
       "                                                 Name     Sex   Age  SibSp  \\\n",
       " 0                            Braund, Mr. Owen Harris    male  22.0      1   \n",
       " 1  Cumings, Mrs. John Bradley (Florence Briggs Th...  female  38.0      1   \n",
       " 2                             Heikkinen, Miss. Laina  female  26.0      0   \n",
       " 3       Futrelle, Mrs. Jacques Heath (Lily May Peel)  female  35.0      1   \n",
       " 4                           Allen, Mr. William Henry    male  35.0      0   \n",
       " \n",
       "    Parch            Ticket     Fare Cabin Embarked  \n",
       " 0      0         A/5 21171   7.2500   NaN        S  \n",
       " 1      0          PC 17599  71.2833   C85        C  \n",
       " 2      0  STON/O2. 3101282   7.9250   NaN        S  \n",
       " 3      0            113803  53.1000  C123        S  \n",
       " 4      0            373450   8.0500   NaN        S  ,\n",
       " 891)"
      ]
     },
     "execution_count": 4,
     "metadata": {},
     "output_type": "execute_result"
    }
   ],
   "source": [
    "titanic_train.head(), len(titanic_train)"
   ]
  },
  {
   "cell_type": "code",
   "execution_count": 5,
   "id": "e4c812b3",
   "metadata": {
    "execution": {
     "iopub.execute_input": "2022-08-25T16:57:53.917833Z",
     "iopub.status.busy": "2022-08-25T16:57:53.917422Z",
     "iopub.status.idle": "2022-08-25T16:57:53.935684Z",
     "shell.execute_reply": "2022-08-25T16:57:53.934223Z"
    },
    "papermill": {
     "duration": 0.027498,
     "end_time": "2022-08-25T16:57:53.938615",
     "exception": false,
     "start_time": "2022-08-25T16:57:53.911117",
     "status": "completed"
    },
    "tags": []
   },
   "outputs": [],
   "source": [
    "# Remove rows with missing target, separate target from predictors\n",
    "titanic_train.dropna(axis=0, subset=['Survived'])\n",
    "y = titanic_train.Survived              \n",
    "X = titanic_train.drop(['Survived'], axis=1)"
   ]
  },
  {
   "cell_type": "code",
   "execution_count": 6,
   "id": "0113ae18",
   "metadata": {
    "execution": {
     "iopub.execute_input": "2022-08-25T16:57:53.951505Z",
     "iopub.status.busy": "2022-08-25T16:57:53.950655Z",
     "iopub.status.idle": "2022-08-25T16:57:53.961358Z",
     "shell.execute_reply": "2022-08-25T16:57:53.960474Z"
    },
    "papermill": {
     "duration": 0.020361,
     "end_time": "2022-08-25T16:57:53.963850",
     "exception": false,
     "start_time": "2022-08-25T16:57:53.943489",
     "status": "completed"
    },
    "tags": []
   },
   "outputs": [],
   "source": [
    "#Age has 177 missing values\n",
    "#Cabin has 687 missing values but it dropped due to high cardinality and large number of missing values\n",
    "#Embarked has 2 missing values and they are replaced by the mode:\n",
    "X['Embarked'] = X['Embarked'].fillna(X['Embarked'].mode())\n",
    "titanic_test['Embarked'] = titanic_test['Embarked'].fillna(titanic_test['Embarked'].mode())\n",
    "\n",
    "#Encode these and add the fact that values were missing\n",
    "#X['Age'] = X['Age'].fillna(0)\n",
    "#titanic_test['Age'] = titanic_test['Age'].fillna(0)"
   ]
  },
  {
   "cell_type": "code",
   "execution_count": 7,
   "id": "88a55a96",
   "metadata": {
    "execution": {
     "iopub.execute_input": "2022-08-25T16:57:53.975793Z",
     "iopub.status.busy": "2022-08-25T16:57:53.975012Z",
     "iopub.status.idle": "2022-08-25T16:57:53.982561Z",
     "shell.execute_reply": "2022-08-25T16:57:53.981663Z"
    },
    "papermill": {
     "duration": 0.01638,
     "end_time": "2022-08-25T16:57:53.985063",
     "exception": false,
     "start_time": "2022-08-25T16:57:53.968683",
     "status": "completed"
    },
    "tags": []
   },
   "outputs": [],
   "source": [
    "# Break off validation set from training data\n",
    "X_train_full, X_valid_full, y_train, y_valid = train_test_split(X, y, train_size=0.8, test_size=0.2,\n",
    "                                                                random_state=0)"
   ]
  },
  {
   "cell_type": "code",
   "execution_count": 8,
   "id": "4047f056",
   "metadata": {
    "execution": {
     "iopub.execute_input": "2022-08-25T16:57:53.997616Z",
     "iopub.status.busy": "2022-08-25T16:57:53.996827Z",
     "iopub.status.idle": "2022-08-25T16:57:54.012990Z",
     "shell.execute_reply": "2022-08-25T16:57:54.011656Z"
    },
    "papermill": {
     "duration": 0.025293,
     "end_time": "2022-08-25T16:57:54.015280",
     "exception": false,
     "start_time": "2022-08-25T16:57:53.989987",
     "status": "completed"
    },
    "tags": []
   },
   "outputs": [
    {
     "name": "stdout",
     "output_type": "stream",
     "text": [
      "Object columns:['Name', 'Sex', 'Ticket', 'Cabin', 'Embarked']\n",
      "Dropped columns:['Name', 'Ticket', 'Cabin']\n",
      "One-hot-encoded columns:['Sex', 'Embarked']\n",
      "Numberic columns:['PassengerId', 'Pclass', 'Age', 'SibSp', 'Parch', 'Fare']\n"
     ]
    }
   ],
   "source": [
    "# Categorical columns in the training data\n",
    "object_cols = [col for col in X_train_full.columns if X_train_full[col].dtype == \"object\"]\n",
    "\n",
    "# Select categorical columns with relatively low cardinality (convenient but arbitrary)\n",
    "low_cardinality_cols = [cname for cname in X_train_full.columns if X_train_full[cname].nunique() < 10 and \n",
    "                        X_train_full[cname].dtype == \"object\"]\n",
    "\n",
    "# Select numeric columns\n",
    "numeric_cols = [cname for cname in X_train_full.columns if X_train_full[cname].dtype in ['int64', 'float64']]\n",
    "\n",
    "# Columns dropped\n",
    "dropped_cols = object_cols.copy()\n",
    "for i in range(0, len(low_cardinality_cols)):\n",
    "    dropped_cols.remove(low_cardinality_cols[i])\n",
    "\n",
    "print(\"Object columns:\" + str(object_cols))\n",
    "print(\"Dropped columns:\" + str(dropped_cols))\n",
    "print(\"One-hot-encoded columns:\" + str(low_cardinality_cols))\n",
    "print(\"Numberic columns:\" + str(numeric_cols))"
   ]
  },
  {
   "cell_type": "code",
   "execution_count": 9,
   "id": "299201c9",
   "metadata": {
    "execution": {
     "iopub.execute_input": "2022-08-25T16:57:54.027569Z",
     "iopub.status.busy": "2022-08-25T16:57:54.026844Z",
     "iopub.status.idle": "2022-08-25T16:57:54.035025Z",
     "shell.execute_reply": "2022-08-25T16:57:54.034010Z"
    },
    "papermill": {
     "duration": 0.017408,
     "end_time": "2022-08-25T16:57:54.037669",
     "exception": false,
     "start_time": "2022-08-25T16:57:54.020261",
     "status": "completed"
    },
    "tags": []
   },
   "outputs": [],
   "source": [
    "# Keep selected columns only\n",
    "my_cols = low_cardinality_cols + numeric_cols\n",
    "X_train = X_train_full[my_cols].copy()\n",
    "X_valid = X_valid_full[my_cols].copy()\n",
    "X_test = titanic_test[my_cols].copy()"
   ]
  },
  {
   "cell_type": "code",
   "execution_count": 10,
   "id": "06606319",
   "metadata": {
    "execution": {
     "iopub.execute_input": "2022-08-25T16:57:54.050775Z",
     "iopub.status.busy": "2022-08-25T16:57:54.050314Z",
     "iopub.status.idle": "2022-08-25T16:57:54.072810Z",
     "shell.execute_reply": "2022-08-25T16:57:54.071062Z"
    },
    "papermill": {
     "duration": 0.032842,
     "end_time": "2022-08-25T16:57:54.075803",
     "exception": false,
     "start_time": "2022-08-25T16:57:54.042961",
     "status": "completed"
    },
    "tags": []
   },
   "outputs": [],
   "source": [
    "from sklearn.preprocessing import OneHotEncoder\n",
    "\n",
    "# Apply one-hot encoder to each column with categorical data\n",
    "OH_encoder = OneHotEncoder(handle_unknown='ignore', sparse=False)\n",
    "OH_cols_train = pd.DataFrame(OH_encoder.fit_transform(X_train[low_cardinality_cols]))\n",
    "OH_cols_valid = pd.DataFrame(OH_encoder.transform(X_valid[low_cardinality_cols]))\n",
    "OH_cols_test = pd.DataFrame(OH_encoder.transform(X_test[low_cardinality_cols]))\n",
    "\n",
    "\n",
    "# One-hot encoding removed index; put it back\n",
    "OH_cols_train.index = X_train.index\n",
    "OH_cols_valid.index = X_valid.index\n",
    "OH_cols_test.index = X_test.index\n",
    "\n",
    "# Remove categorical columns (will replace with one-hot encoding)\n",
    "num_X_train = X_train[numeric_cols]\n",
    "num_X_valid = X_valid[numeric_cols]\n",
    "num_X_test = X_test[numeric_cols]\n",
    "\n",
    "# Add one-hot encoded columns to numerical features\n",
    "OH_X_train = pd.concat([num_X_train, OH_cols_train], axis=1)\n",
    "OH_X_valid = pd.concat([num_X_valid, OH_cols_valid], axis=1)\n",
    "OH_X_test = pd.concat([num_X_test, OH_cols_test], axis=1)"
   ]
  },
  {
   "cell_type": "code",
   "execution_count": 11,
   "id": "c3872db9",
   "metadata": {
    "execution": {
     "iopub.execute_input": "2022-08-25T16:57:54.087789Z",
     "iopub.status.busy": "2022-08-25T16:57:54.087178Z",
     "iopub.status.idle": "2022-08-25T16:57:54.112494Z",
     "shell.execute_reply": "2022-08-25T16:57:54.111656Z"
    },
    "papermill": {
     "duration": 0.03447,
     "end_time": "2022-08-25T16:57:54.115344",
     "exception": false,
     "start_time": "2022-08-25T16:57:54.080874",
     "status": "completed"
    },
    "tags": []
   },
   "outputs": [
    {
     "name": "stderr",
     "output_type": "stream",
     "text": [
      "/opt/conda/lib/python3.7/site-packages/sklearn/utils/validation.py:1692: FutureWarning: Feature names only support names that are all strings. Got feature names with dtypes: ['int', 'str']. An error will be raised in 1.2.\n",
      "  FutureWarning,\n",
      "/opt/conda/lib/python3.7/site-packages/sklearn/utils/validation.py:1692: FutureWarning: Feature names only support names that are all strings. Got feature names with dtypes: ['int', 'str']. An error will be raised in 1.2.\n",
      "  FutureWarning,\n",
      "/opt/conda/lib/python3.7/site-packages/sklearn/utils/validation.py:1692: FutureWarning: Feature names only support names that are all strings. Got feature names with dtypes: ['int', 'str']. An error will be raised in 1.2.\n",
      "  FutureWarning,\n",
      "/opt/conda/lib/python3.7/site-packages/sklearn/utils/validation.py:1692: FutureWarning: Feature names only support names that are all strings. Got feature names with dtypes: ['int', 'str']. An error will be raised in 1.2.\n",
      "  FutureWarning,\n"
     ]
    }
   ],
   "source": [
    "from sklearn.impute import SimpleImputer\n",
    "\n",
    "# Imputation\n",
    "my_imputer = SimpleImputer(strategy='constant')\n",
    "OH_imputed_X_train = pd.DataFrame(my_imputer.fit_transform(OH_X_train))\n",
    "OH_imputed_X_valid = pd.DataFrame(my_imputer.transform(OH_X_valid))\n",
    "OH_imputed_X_test = pd.DataFrame(my_imputer.transform(OH_X_test))\n",
    "\n",
    "# Imputation removed column names; put them back\n",
    "OH_imputed_X_train.columns = OH_X_train.columns\n",
    "OH_imputed_X_valid.columns = OH_X_valid.columns\n",
    "OH_imputed_X_test.columns = OH_X_test.columns"
   ]
  },
  {
   "cell_type": "code",
   "execution_count": 12,
   "id": "cdf2295d",
   "metadata": {
    "execution": {
     "iopub.execute_input": "2022-08-25T16:57:54.127084Z",
     "iopub.status.busy": "2022-08-25T16:57:54.126709Z",
     "iopub.status.idle": "2022-08-25T16:57:54.142302Z",
     "shell.execute_reply": "2022-08-25T16:57:54.141155Z"
    },
    "papermill": {
     "duration": 0.024614,
     "end_time": "2022-08-25T16:57:54.144963",
     "exception": false,
     "start_time": "2022-08-25T16:57:54.120349",
     "status": "completed"
    },
    "tags": []
   },
   "outputs": [
    {
     "data": {
      "text/html": [
       "<div>\n",
       "<style scoped>\n",
       "    .dataframe tbody tr th:only-of-type {\n",
       "        vertical-align: middle;\n",
       "    }\n",
       "\n",
       "    .dataframe tbody tr th {\n",
       "        vertical-align: top;\n",
       "    }\n",
       "\n",
       "    .dataframe thead th {\n",
       "        text-align: right;\n",
       "    }\n",
       "</style>\n",
       "<table border=\"1\" class=\"dataframe\">\n",
       "  <thead>\n",
       "    <tr style=\"text-align: right;\">\n",
       "      <th></th>\n",
       "      <th>PassengerId</th>\n",
       "      <th>Pclass</th>\n",
       "      <th>Age</th>\n",
       "      <th>SibSp</th>\n",
       "      <th>Parch</th>\n",
       "      <th>Fare</th>\n",
       "      <th>0</th>\n",
       "      <th>1</th>\n",
       "      <th>2</th>\n",
       "      <th>3</th>\n",
       "      <th>4</th>\n",
       "      <th>5</th>\n",
       "    </tr>\n",
       "  </thead>\n",
       "  <tbody>\n",
       "  </tbody>\n",
       "</table>\n",
       "</div>"
      ],
      "text/plain": [
       "Empty DataFrame\n",
       "Columns: [PassengerId, Pclass, Age, SibSp, Parch, Fare, 0, 1, 2, 3, 4, 5]\n",
       "Index: []"
      ]
     },
     "execution_count": 12,
     "metadata": {},
     "output_type": "execute_result"
    }
   ],
   "source": [
    "OH_imputed_X_train[OH_imputed_X_train['Age'].isna()]"
   ]
  },
  {
   "cell_type": "code",
   "execution_count": 13,
   "id": "3def9b43",
   "metadata": {
    "execution": {
     "iopub.execute_input": "2022-08-25T16:57:54.157674Z",
     "iopub.status.busy": "2022-08-25T16:57:54.156896Z",
     "iopub.status.idle": "2022-08-25T16:57:55.894256Z",
     "shell.execute_reply": "2022-08-25T16:57:55.893218Z"
    },
    "papermill": {
     "duration": 1.746845,
     "end_time": "2022-08-25T16:57:55.897118",
     "exception": false,
     "start_time": "2022-08-25T16:57:54.150273",
     "status": "completed"
    },
    "tags": []
   },
   "outputs": [
    {
     "name": "stdout",
     "output_type": "stream",
     "text": [
      "Mean Absolute Error: 0.1452513966480447\n"
     ]
    }
   ],
   "source": [
    "from xgboost import XGBClassifier\n",
    "from sklearn.metrics import mean_absolute_error\n",
    "\n",
    "# Define the model\n",
    "model = XGBClassifier(random_state = 0, n_estimators = 600, learning_rate=0.02, n_jobs=4) # Your code here\n",
    "\n",
    "# Fit the model\n",
    "model.fit(OH_X_train, y_train) # Your code here\n",
    "\n",
    "# Get predictions\n",
    "predictions = model.predict(OH_X_valid) # Your code here\n",
    "\n",
    "# Calculate MAE\n",
    "mae = mean_absolute_error(y_valid, predictions) # Your code here\n",
    "\n",
    "# Uncomment to print MAE\n",
    "print(\"Mean Absolute Error:\" , mae)"
   ]
  },
  {
   "cell_type": "code",
   "execution_count": 14,
   "id": "f0e7cd3b",
   "metadata": {
    "execution": {
     "iopub.execute_input": "2022-08-25T16:57:55.911275Z",
     "iopub.status.busy": "2022-08-25T16:57:55.910546Z",
     "iopub.status.idle": "2022-08-25T16:57:55.918201Z",
     "shell.execute_reply": "2022-08-25T16:57:55.916784Z"
    },
    "papermill": {
     "duration": 0.018192,
     "end_time": "2022-08-25T16:57:55.921473",
     "exception": false,
     "start_time": "2022-08-25T16:57:55.903281",
     "status": "completed"
    },
    "tags": []
   },
   "outputs": [
    {
     "name": "stdout",
     "output_type": "stream",
     "text": [
      "0.8547486033519553\n"
     ]
    }
   ],
   "source": [
    "from sklearn.metrics import accuracy_score\n",
    "print(accuracy_score(y_valid, predictions))"
   ]
  },
  {
   "cell_type": "code",
   "execution_count": 15,
   "id": "c8c19505",
   "metadata": {
    "execution": {
     "iopub.execute_input": "2022-08-25T16:57:55.933869Z",
     "iopub.status.busy": "2022-08-25T16:57:55.933315Z",
     "iopub.status.idle": "2022-08-25T16:57:55.954729Z",
     "shell.execute_reply": "2022-08-25T16:57:55.953749Z"
    },
    "papermill": {
     "duration": 0.030507,
     "end_time": "2022-08-25T16:57:55.957332",
     "exception": false,
     "start_time": "2022-08-25T16:57:55.926825",
     "status": "completed"
    },
    "tags": []
   },
   "outputs": [],
   "source": [
    "predictions_test = model.predict(OH_X_test)"
   ]
  },
  {
   "cell_type": "code",
   "execution_count": 16,
   "id": "a23d4c3b",
   "metadata": {
    "execution": {
     "iopub.execute_input": "2022-08-25T16:57:55.971565Z",
     "iopub.status.busy": "2022-08-25T16:57:55.971175Z",
     "iopub.status.idle": "2022-08-25T16:57:55.981396Z",
     "shell.execute_reply": "2022-08-25T16:57:55.980552Z"
    },
    "papermill": {
     "duration": 0.020631,
     "end_time": "2022-08-25T16:57:55.984336",
     "exception": false,
     "start_time": "2022-08-25T16:57:55.963705",
     "status": "completed"
    },
    "tags": []
   },
   "outputs": [
    {
     "name": "stdout",
     "output_type": "stream",
     "text": [
      "Your submission was successfully saved!\n"
     ]
    }
   ],
   "source": [
    "output = pd.DataFrame({'PassengerId': OH_X_test.PassengerId, 'Survived': predictions_test})\n",
    "output.to_csv('submission.csv', index=False)\n",
    "print(\"Your submission was successfully saved!\")"
   ]
  }
 ],
 "metadata": {
  "kernelspec": {
   "display_name": "Python 3",
   "language": "python",
   "name": "python3"
  },
  "language_info": {
   "codemirror_mode": {
    "name": "ipython",
    "version": 3
   },
   "file_extension": ".py",
   "mimetype": "text/x-python",
   "name": "python",
   "nbconvert_exporter": "python",
   "pygments_lexer": "ipython3",
   "version": "3.7.12"
  },
  "papermill": {
   "default_parameters": {},
   "duration": 14.206688,
   "end_time": "2022-08-25T16:57:56.814546",
   "environment_variables": {},
   "exception": null,
   "input_path": "__notebook__.ipynb",
   "output_path": "__notebook__.ipynb",
   "parameters": {},
   "start_time": "2022-08-25T16:57:42.607858",
   "version": "2.3.4"
  }
 },
 "nbformat": 4,
 "nbformat_minor": 5
}
